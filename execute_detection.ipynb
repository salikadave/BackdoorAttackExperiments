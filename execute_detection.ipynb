{
  "nbformat": 4,
  "nbformat_minor": 0,
  "metadata": {
    "colab": {
      "provenance": [],
      "gpuType": "T4"
    },
    "kernelspec": {
      "name": "python3",
      "display_name": "Python 3"
    },
    "language_info": {
      "name": "python"
    },
    "accelerator": "GPU"
  },
  "cells": [
    {
      "cell_type": "code",
      "execution_count": 1,
      "metadata": {
        "colab": {
          "base_uri": "https://localhost:8080/"
        },
        "id": "wOs9mOmQ_dM0",
        "outputId": "887d8ad1-dd3e-49fd-9b37-981009dfba5a"
      },
      "outputs": [
        {
          "output_type": "stream",
          "name": "stdout",
          "text": [
            "notebook for execution\n"
          ]
        }
      ],
      "source": [
        "print('notebook for execution')"
      ]
    },
    {
      "cell_type": "code",
      "source": [
        "!ls"
      ],
      "metadata": {
        "colab": {
          "base_uri": "https://localhost:8080/"
        },
        "id": "IwtqFrZgCTfl",
        "outputId": "8fd1137f-62fc-4bb9-f9a7-af689fc59b97"
      },
      "execution_count": 23,
      "outputs": [
        {
          "output_type": "stream",
          "name": "stdout",
          "text": [
            "activate-env.sh\t\t clean_stats.csv     pert_estimated\t   stats\n",
            "asr_num_size.csv\t config.json\t     perturbed_image1.png  stats.csv\n",
            "attacks\t\t\t contam\t\t     perturbed_image2.png  stats.py\n",
            "attacks_crafting.py\t data\t\t     perturbed_image.png   training_logs\n",
            "Backdoor_patterns.ipynb  detection\t     readme.md\t\t   train.py\n",
            "checkpoint_contam\t execute.ipynb\t     requirements.txt\n",
            "chessdoor_pattern.png\t original_image.png  src\n"
          ]
        }
      ]
    },
    {
      "cell_type": "code",
      "source": [
        "%cd ..\n",
        "%cd content/drive/MyDrive/C597_ADL/detection/"
      ],
      "metadata": {
        "colab": {
          "base_uri": "https://localhost:8080/"
        },
        "id": "ZnhtuCkM_lPa",
        "outputId": "43a01f1d-e50b-4a12-9c70-8a962744862d"
      },
      "execution_count": 2,
      "outputs": [
        {
          "output_type": "stream",
          "name": "stdout",
          "text": [
            "/\n",
            "/content/drive/MyDrive/C597_ADL/detection\n"
          ]
        }
      ]
    },
    {
      "cell_type": "code",
      "source": [
        "!ls"
      ],
      "metadata": {
        "colab": {
          "base_uri": "https://localhost:8080/"
        },
        "id": "109sg0S__vbZ",
        "outputId": "56030936-fd1a-4f8b-f4fb-2dbc4cbcbde4"
      },
      "execution_count": 22,
      "outputs": [
        {
          "output_type": "stream",
          "name": "stdout",
          "text": [
            "activate-env.sh\t\t clean_stats.csv     pert_estimated\t   stats\n",
            "asr_num_size.csv\t config.json\t     perturbed_image1.png  stats.csv\n",
            "attacks\t\t\t contam\t\t     perturbed_image2.png  stats.py\n",
            "attacks_crafting.py\t data\t\t     perturbed_image.png   training_logs\n",
            "Backdoor_patterns.ipynb  detection\t     readme.md\t\t   train.py\n",
            "checkpoint_contam\t execute.ipynb\t     requirements.txt\n",
            "chessdoor_pattern.png\t original_image.png  src\n"
          ]
        }
      ]
    },
    {
      "cell_type": "code",
      "source": [
        "!git clone https://github.com/salikadave/BackdoorAttackExperiments.git"
      ],
      "metadata": {
        "colab": {
          "base_uri": "https://localhost:8080/"
        },
        "id": "HgXxFReb_89a",
        "outputId": "dea330f4-b5a6-42bc-84ae-8835a5c228d6"
      },
      "execution_count": null,
      "outputs": [
        {
          "output_type": "stream",
          "name": "stdout",
          "text": [
            "Cloning into 'BackdoorAttackExperiments'...\n",
            "remote: Enumerating objects: 93, done.\u001b[K\n",
            "remote: Counting objects: 100% (93/93), done.\u001b[K\n",
            "remote: Compressing objects: 100% (59/59), done.\u001b[K\n",
            "remote: Total 93 (delta 31), reused 87 (delta 27), pack-reused 0\u001b[K\n",
            "Receiving objects: 100% (93/93), 4.68 MiB | 11.83 MiB/s, done.\n",
            "Resolving deltas: 100% (31/31), done.\n"
          ]
        }
      ]
    },
    {
      "cell_type": "code",
      "source": [
        "%cd BackdoorAttackExperiments/"
      ],
      "metadata": {
        "colab": {
          "base_uri": "https://localhost:8080/"
        },
        "id": "q0MbSqaBAECw",
        "outputId": "fc8d2fbe-7115-4305-a02c-e9360669d964"
      },
      "execution_count": 4,
      "outputs": [
        {
          "output_type": "stream",
          "name": "stdout",
          "text": [
            "/content/drive/MyDrive/C597_ADL/detection/BackdoorAttackExperiments\n"
          ]
        }
      ]
    },
    {
      "cell_type": "code",
      "source": [
        "!git branch -a"
      ],
      "metadata": {
        "colab": {
          "base_uri": "https://localhost:8080/"
        },
        "id": "DuvW_mMhAF-6",
        "outputId": "8a21a769-b95b-4d9a-92d7-c6ff47852df2"
      },
      "execution_count": 5,
      "outputs": [
        {
          "output_type": "stream",
          "name": "stdout",
          "text": [
            "* \u001b[32mdetection\u001b[m\n",
            "  main\u001b[m\n",
            "  \u001b[31mremotes/origin/HEAD\u001b[m -> origin/main\n",
            "  \u001b[31mremotes/origin/detection\u001b[m\n",
            "  \u001b[31mremotes/origin/main\u001b[m\n"
          ]
        }
      ]
    },
    {
      "cell_type": "code",
      "source": [
        "!git checkout detection"
      ],
      "metadata": {
        "colab": {
          "base_uri": "https://localhost:8080/"
        },
        "id": "jA-RDAqVAQMM",
        "outputId": "b67a645a-17d6-4108-eb5a-5f57d25e421b"
      },
      "execution_count": 6,
      "outputs": [
        {
          "output_type": "stream",
          "name": "stdout",
          "text": [
            "Already on 'detection'\n",
            "Your branch is up to date with 'origin/detection'.\n"
          ]
        }
      ]
    },
    {
      "cell_type": "code",
      "source": [
        "!pip install -r requirements.txt # restart not required"
      ],
      "metadata": {
        "id": "69Jp8I8WASPR"
      },
      "execution_count": null,
      "outputs": []
    },
    {
      "cell_type": "code",
      "source": [
        "!git pull origin detection"
      ],
      "metadata": {
        "colab": {
          "base_uri": "https://localhost:8080/"
        },
        "id": "hsDd-7QBFHkJ",
        "outputId": "da4aa4be-5792-4d24-8619-d69d43b56ecf"
      },
      "execution_count": 8,
      "outputs": [
        {
          "output_type": "stream",
          "name": "stdout",
          "text": [
            "From https://github.com/salikadave/BackdoorAttackExperiments\n",
            " * branch            detection  -> FETCH_HEAD\n",
            "Already up to date.\n"
          ]
        }
      ]
    },
    {
      "cell_type": "code",
      "source": [
        "!git restore detection/pert_estimation_AD.py\n",
        "!git restore detection/detection_inference_AD.py"
      ],
      "metadata": {
        "id": "ikmmybZ6Kkcf"
      },
      "execution_count": 33,
      "outputs": []
    },
    {
      "cell_type": "code",
      "source": [
        "!python detection/pert_estimation_AD.py"
      ],
      "metadata": {
        "colab": {
          "base_uri": "https://localhost:8080/"
        },
        "id": "0J6waNIsBPF7",
        "outputId": "d220938b-e7ee-483a-a652-9819d54ac200"
      },
      "execution_count": 89,
      "outputs": [
        {
          "output_type": "stream",
          "name": "stdout",
          "text": [
            "/content/drive/MyDrive/C597_ADL/detection/BackdoorAttackExperiments\n",
            "==> Preparing data..\n",
            "Files already downloaded and verified\n",
            "/usr/lib/python3.10/multiprocessing/popen_fork.py:66: RuntimeWarning: os.fork() was called. os.fork() is incompatible with multithreaded code, and JAX is multithreaded, so this will likely lead to a deadlock.\n",
            "  self.pid = os.fork()\n",
            "--- 80.78492593765259 seconds ---\n"
          ]
        }
      ]
    },
    {
      "cell_type": "code",
      "source": [
        "!python detection/detection_inference_AD.py"
      ],
      "metadata": {
        "colab": {
          "base_uri": "https://localhost:8080/"
        },
        "id": "gzfzntgJK5jv",
        "outputId": "32e1fcf1-a85a-4f7b-83ee-3f06541ff70f"
      },
      "execution_count": 91,
      "outputs": [
        {
          "output_type": "stream",
          "name": "stdout",
          "text": [
            "Backdoor attack detected!\n",
            "Detected (s, t) pair: (8, 4)\n"
          ]
        }
      ]
    },
    {
      "cell_type": "code",
      "source": [
        "import matplotlib.pyplot as plt\n",
        "\n",
        "def plot_roc(TP, FP, TN, FN):\n",
        "    # Calculate the True Positive Rate (TPR) and False Positive Rate (FPR)\n",
        "    TPR = TP / (TP + FN) if TP + FN else 0\n",
        "    FPR = FP / (FP + TN) if FP + TN else 0\n",
        "\n",
        "    print()\n",
        "\n",
        "    # Plotting the ROC curve\n",
        "    plt.figure(figsize=(7, 7))\n",
        "    plt.plot([0, FPR, 1], [0, TPR, 1], 'b', label='ROC curve')\n",
        "    plt.scatter([FPR], [TPR], color='red')  # Mark the operational point\n",
        "    plt.text(FPR, TPR, f'({FPR:.2f}, {TPR:.2f})', fontsize=12, ha='right')\n",
        "\n",
        "    # Plot baseline (chance level)\n",
        "    plt.plot([0, 1], [0, 1], 'k--', label='Chance level')\n",
        "\n",
        "    # Adding labels and title\n",
        "    plt.xlabel('False Positive Rate (FPR)')\n",
        "    plt.ylabel('True Positive Rate (TPR)')\n",
        "    plt.title('ROC Curve')\n",
        "    plt.legend(loc='lower right')\n",
        "    plt.grid(True)\n",
        "    plt.show()\n",
        "    plt.savefig('roc1.png')\n",
        "\n",
        "    print((1- (FPR + TPR))/2)\n",
        "# Example usage\n",
        "plot_roc(TP=4, FP=0, TN=1, FN=4) # ROC Curve for original sample values\n",
        "\n",
        "# plot_roc(TP=10, FP=0, TN=1, FN=0) # ROC Curve for varying number of classes (NC)"
      ],
      "metadata": {
        "colab": {
          "base_uri": "https://localhost:8080/",
          "height": 687
        },
        "id": "KKTRm5q7ecii",
        "outputId": "858cc1cc-956d-4a3e-f123-6098537a9db0"
      },
      "execution_count": 68,
      "outputs": [
        {
          "output_type": "stream",
          "name": "stdout",
          "text": [
            "\n"
          ]
        },
        {
          "output_type": "display_data",
          "data": {
            "text/plain": [
              "<Figure size 700x700 with 1 Axes>"
            ],
            "image/png": "[encoded data removed]"
          },
          "metadata": {}
        },
        {
          "output_type": "stream",
          "name": "stdout",
          "text": [
            "0.25\n"
          ]
        },
        {
          "output_type": "display_data",
          "data": {
            "text/plain": [
              "<Figure size 640x480 with 0 Axes>"
            ]
          },
          "metadata": {}
        }
      ]
    },
    {
      "cell_type": "code",
      "source": [
        "!pip install scikit-learn"
      ],
      "metadata": {
        "id": "yNiayRibv68e"
      },
      "execution_count": null,
      "outputs": []
    },
    {
      "cell_type": "code",
      "source": [
        "import matplotlib.pyplot as plt\n",
        "from sklearn.metrics import roc_curve, auc\n",
        "\n",
        "# sample_count = 9\n",
        "# 0 - poisoned classifier\n",
        "# 1 - clean classifier\n",
        "\n",
        "# 0 --> no confidence\n",
        "# 1 --> high confidence\n",
        "\n",
        "# y_true = [1, 0, 0, 0, 0, 0, 0, 0, 0]\n",
        "# y_pred = [1, 1, 1, 1, 1, 0, 0, 0, 0]\n",
        "\n",
        "y_true = [1, 0, 0, 0, 0]\n",
        "y_pred = [1, 1, 1, 1, 1]\n",
        "\n",
        "# Calculate the ROC curve points\n",
        "fpr, tpr, _ = roc_curve(y_true, y_pred)\n",
        "roc_auc = auc(fpr, tpr)  # Calculate AUC\n",
        "\n",
        "# Plotting\n",
        "plt.figure()\n",
        "plt.plot(fpr, tpr, color='darkorange', lw=2, label=f'ROC curve (area = {roc_auc:.2f})')\n",
        "plt.plot([0, 1], [0, 1], color='navy', lw=2, linestyle='--')\n",
        "plt.xlim([0.0, 1])\n",
        "plt.ylim([0.0, 1])\n",
        "plt.xlabel('False Positive Rate')\n",
        "plt.ylabel('True Positive Rate')\n",
        "plt.title('Receiver Operating Characteristic')\n",
        "plt.legend(loc=\"lower right\")\n",
        "plt.show()"
      ],
      "metadata": {
        "colab": {
          "base_uri": "https://localhost:8080/",
          "height": 391
        },
        "id": "aR7X1CgQuSDT",
        "outputId": "88e6f474-f947-472f-842c-f56705b01a96"
      },
      "execution_count": 45,
      "outputs": [
        {
          "output_type": "error",
          "ename": "AttributeError",
          "evalue": "module 'numpy.linalg._umath_linalg' has no attribute '_ilp64'",
          "traceback": [
            "\u001b[0;31m---------------------------------------------------------------------------\u001b[0m",
            "\u001b[0;31mAttributeError\u001b[0m                            Traceback (most recent call last)",
            "\u001b[0;32m<ipython-input-45-73518f5fb99d>\u001b[0m in \u001b[0;36m<cell line: 2>\u001b[0;34m()\u001b[0m\n\u001b[1;32m      1\u001b[0m \u001b[0;32mimport\u001b[0m \u001b[0mmatplotlib\u001b[0m\u001b[0;34m.\u001b[0m\u001b[0mpyplot\u001b[0m \u001b[0;32mas\u001b[0m \u001b[0mplt\u001b[0m\u001b[0;34m\u001b[0m\u001b[0;34m\u001b[0m\u001b[0m\n\u001b[0;32m----> 2\u001b[0;31m \u001b[0;32mfrom\u001b[0m \u001b[0msklearn\u001b[0m\u001b[0;34m.\u001b[0m\u001b[0mmetrics\u001b[0m \u001b[0;32mimport\u001b[0m \u001b[0mroc_curve\u001b[0m\u001b[0;34m,\u001b[0m \u001b[0mauc\u001b[0m\u001b[0;34m\u001b[0m\u001b[0;34m\u001b[0m\u001b[0m\n\u001b[0m\u001b[1;32m      3\u001b[0m \u001b[0;34m\u001b[0m\u001b[0m\n\u001b[1;32m      4\u001b[0m \u001b[0;31m# sample_count = 9\u001b[0m\u001b[0;34m\u001b[0m\u001b[0;34m\u001b[0m\u001b[0m\n\u001b[1;32m      5\u001b[0m \u001b[0;31m# 0 - poisoned classifier\u001b[0m\u001b[0;34m\u001b[0m\u001b[0;34m\u001b[0m\u001b[0m\n",
            "\u001b[0;32m/usr/local/lib/python3.10/dist-packages/sklearn/__init__.py\u001b[0m in \u001b[0;36m<module>\u001b[0;34m\u001b[0m\n\u001b[1;32m     80\u001b[0m     \u001b[0;32mfrom\u001b[0m \u001b[0;34m.\u001b[0m \u001b[0;32mimport\u001b[0m \u001b[0m_distributor_init\u001b[0m  \u001b[0;31m# noqa: F401\u001b[0m\u001b[0;34m\u001b[0m\u001b[0;34m\u001b[0m\u001b[0m\n\u001b[1;32m     81\u001b[0m     \u001b[0;32mfrom\u001b[0m \u001b[0;34m.\u001b[0m \u001b[0;32mimport\u001b[0m \u001b[0m__check_build\u001b[0m  \u001b[0;31m# noqa: F401\u001b[0m\u001b[0;34m\u001b[0m\u001b[0;34m\u001b[0m\u001b[0m\n\u001b[0;32m---> 82\u001b[0;31m     \u001b[0;32mfrom\u001b[0m \u001b[0;34m.\u001b[0m\u001b[0mbase\u001b[0m \u001b[0;32mimport\u001b[0m \u001b[0mclone\u001b[0m\u001b[0;34m\u001b[0m\u001b[0;34m\u001b[0m\u001b[0m\n\u001b[0m\u001b[1;32m     83\u001b[0m     \u001b[0;32mfrom\u001b[0m \u001b[0;34m.\u001b[0m\u001b[0mutils\u001b[0m\u001b[0;34m.\u001b[0m\u001b[0m_show_versions\u001b[0m \u001b[0;32mimport\u001b[0m \u001b[0mshow_versions\u001b[0m\u001b[0;34m\u001b[0m\u001b[0;34m\u001b[0m\u001b[0m\n\u001b[1;32m     84\u001b[0m \u001b[0;34m\u001b[0m\u001b[0m\n",
            "\u001b[0;32m/usr/local/lib/python3.10/dist-packages/sklearn/base.py\u001b[0m in \u001b[0;36m<module>\u001b[0;34m\u001b[0m\n\u001b[1;32m     15\u001b[0m \u001b[0;32mfrom\u001b[0m \u001b[0;34m.\u001b[0m \u001b[0;32mimport\u001b[0m \u001b[0m__version__\u001b[0m\u001b[0;34m\u001b[0m\u001b[0;34m\u001b[0m\u001b[0m\n\u001b[1;32m     16\u001b[0m \u001b[0;32mfrom\u001b[0m \u001b[0;34m.\u001b[0m\u001b[0m_config\u001b[0m \u001b[0;32mimport\u001b[0m \u001b[0mget_config\u001b[0m\u001b[0;34m\u001b[0m\u001b[0;34m\u001b[0m\u001b[0m\n\u001b[0;32m---> 17\u001b[0;31m \u001b[0;32mfrom\u001b[0m \u001b[0;34m.\u001b[0m\u001b[0mutils\u001b[0m \u001b[0;32mimport\u001b[0m \u001b[0m_IS_32BIT\u001b[0m\u001b[0;34m\u001b[0m\u001b[0;34m\u001b[0m\u001b[0m\n\u001b[0m\u001b[1;32m     18\u001b[0m \u001b[0;32mfrom\u001b[0m \u001b[0;34m.\u001b[0m\u001b[0mutils\u001b[0m\u001b[0;34m.\u001b[0m\u001b[0m_set_output\u001b[0m \u001b[0;32mimport\u001b[0m \u001b[0m_SetOutputMixin\u001b[0m\u001b[0;34m\u001b[0m\u001b[0;34m\u001b[0m\u001b[0m\n\u001b[1;32m     19\u001b[0m from .utils._tags import (\n",
            "\u001b[0;32m/usr/local/lib/python3.10/dist-packages/sklearn/utils/__init__.py\u001b[0m in \u001b[0;36m<module>\u001b[0;34m\u001b[0m\n\u001b[1;32m     23\u001b[0m \u001b[0;32mfrom\u001b[0m \u001b[0;34m.\u001b[0m\u001b[0mdeprecation\u001b[0m \u001b[0;32mimport\u001b[0m \u001b[0mdeprecated\u001b[0m\u001b[0;34m\u001b[0m\u001b[0;34m\u001b[0m\u001b[0m\n\u001b[1;32m     24\u001b[0m \u001b[0;32mfrom\u001b[0m \u001b[0;34m.\u001b[0m\u001b[0mdiscovery\u001b[0m \u001b[0;32mimport\u001b[0m \u001b[0mall_estimators\u001b[0m\u001b[0;34m\u001b[0m\u001b[0;34m\u001b[0m\u001b[0m\n\u001b[0;32m---> 25\u001b[0;31m \u001b[0;32mfrom\u001b[0m \u001b[0;34m.\u001b[0m\u001b[0mfixes\u001b[0m \u001b[0;32mimport\u001b[0m \u001b[0mparse_version\u001b[0m\u001b[0;34m,\u001b[0m \u001b[0mthreadpool_info\u001b[0m\u001b[0;34m\u001b[0m\u001b[0;34m\u001b[0m\u001b[0m\n\u001b[0m\u001b[1;32m     26\u001b[0m \u001b[0;32mfrom\u001b[0m \u001b[0;34m.\u001b[0m\u001b[0m_estimator_html_repr\u001b[0m \u001b[0;32mimport\u001b[0m \u001b[0mestimator_html_repr\u001b[0m\u001b[0;34m\u001b[0m\u001b[0;34m\u001b[0m\u001b[0m\n\u001b[1;32m     27\u001b[0m from .validation import (\n",
            "\u001b[0;32m/usr/local/lib/python3.10/dist-packages/sklearn/utils/fixes.py\u001b[0m in \u001b[0;36m<module>\u001b[0;34m\u001b[0m\n\u001b[1;32m     17\u001b[0m \u001b[0;32mimport\u001b[0m \u001b[0mnumpy\u001b[0m \u001b[0;32mas\u001b[0m \u001b[0mnp\u001b[0m\u001b[0;34m\u001b[0m\u001b[0;34m\u001b[0m\u001b[0m\n\u001b[1;32m     18\u001b[0m \u001b[0;32mimport\u001b[0m \u001b[0mscipy\u001b[0m\u001b[0;34m\u001b[0m\u001b[0;34m\u001b[0m\u001b[0m\n\u001b[0;32m---> 19\u001b[0;31m \u001b[0;32mimport\u001b[0m \u001b[0mscipy\u001b[0m\u001b[0;34m.\u001b[0m\u001b[0mstats\u001b[0m\u001b[0;34m\u001b[0m\u001b[0;34m\u001b[0m\u001b[0m\n\u001b[0m\u001b[1;32m     20\u001b[0m \u001b[0;32mimport\u001b[0m \u001b[0mthreadpoolctl\u001b[0m\u001b[0;34m\u001b[0m\u001b[0;34m\u001b[0m\u001b[0m\n\u001b[1;32m     21\u001b[0m \u001b[0;34m\u001b[0m\u001b[0m\n",
            "\u001b[0;32m/usr/local/lib/python3.10/dist-packages/scipy/stats/__init__.py\u001b[0m in \u001b[0;36m<module>\u001b[0;34m\u001b[0m\n\u001b[1;32m    606\u001b[0m from ._warnings_errors import (ConstantInputWarning, NearConstantInputWarning,\n\u001b[1;32m    607\u001b[0m                                DegenerateDataWarning, FitError)\n\u001b[0;32m--> 608\u001b[0;31m \u001b[0;32mfrom\u001b[0m \u001b[0;34m.\u001b[0m\u001b[0m_stats_py\u001b[0m \u001b[0;32mimport\u001b[0m \u001b[0;34m*\u001b[0m\u001b[0;34m\u001b[0m\u001b[0;34m\u001b[0m\u001b[0m\n\u001b[0m\u001b[1;32m    609\u001b[0m \u001b[0;32mfrom\u001b[0m \u001b[0;34m.\u001b[0m\u001b[0m_variation\u001b[0m \u001b[0;32mimport\u001b[0m \u001b[0mvariation\u001b[0m\u001b[0;34m\u001b[0m\u001b[0;34m\u001b[0m\u001b[0m\n\u001b[1;32m    610\u001b[0m \u001b[0;32mfrom\u001b[0m \u001b[0;34m.\u001b[0m\u001b[0mdistributions\u001b[0m \u001b[0;32mimport\u001b[0m \u001b[0;34m*\u001b[0m\u001b[0;34m\u001b[0m\u001b[0;34m\u001b[0m\u001b[0m\n",
            "\u001b[0;32m/usr/local/lib/python3.10/dist-packages/scipy/stats/_stats_py.py\u001b[0m in \u001b[0;36m<module>\u001b[0;34m\u001b[0m\n\u001b[1;32m     35\u001b[0m \u001b[0;32mfrom\u001b[0m \u001b[0mnumpy\u001b[0m \u001b[0;32mimport\u001b[0m \u001b[0marray\u001b[0m\u001b[0;34m,\u001b[0m \u001b[0masarray\u001b[0m\u001b[0;34m,\u001b[0m \u001b[0mma\u001b[0m\u001b[0;34m\u001b[0m\u001b[0;34m\u001b[0m\u001b[0m\n\u001b[1;32m     36\u001b[0m \u001b[0;32mfrom\u001b[0m \u001b[0mnumpy\u001b[0m\u001b[0;34m.\u001b[0m\u001b[0mlib\u001b[0m \u001b[0;32mimport\u001b[0m \u001b[0mNumpyVersion\u001b[0m\u001b[0;34m\u001b[0m\u001b[0;34m\u001b[0m\u001b[0m\n\u001b[0;32m---> 37\u001b[0;31m \u001b[0;32mfrom\u001b[0m \u001b[0mnumpy\u001b[0m\u001b[0;34m.\u001b[0m\u001b[0mtesting\u001b[0m \u001b[0;32mimport\u001b[0m \u001b[0msuppress_warnings\u001b[0m\u001b[0;34m\u001b[0m\u001b[0;34m\u001b[0m\u001b[0m\n\u001b[0m\u001b[1;32m     38\u001b[0m \u001b[0;34m\u001b[0m\u001b[0m\n\u001b[1;32m     39\u001b[0m \u001b[0;32mfrom\u001b[0m \u001b[0mscipy\u001b[0m\u001b[0;34m.\u001b[0m\u001b[0mspatial\u001b[0m\u001b[0;34m.\u001b[0m\u001b[0mdistance\u001b[0m \u001b[0;32mimport\u001b[0m \u001b[0mcdist\u001b[0m\u001b[0;34m\u001b[0m\u001b[0;34m\u001b[0m\u001b[0m\n",
            "\u001b[0;32m/usr/local/lib/python3.10/dist-packages/numpy/testing/__init__.py\u001b[0m in \u001b[0;36m<module>\u001b[0;34m\u001b[0m\n\u001b[1;32m      9\u001b[0m \u001b[0;34m\u001b[0m\u001b[0m\n\u001b[1;32m     10\u001b[0m \u001b[0;32mfrom\u001b[0m \u001b[0;34m.\u001b[0m \u001b[0;32mimport\u001b[0m \u001b[0m_private\u001b[0m\u001b[0;34m\u001b[0m\u001b[0;34m\u001b[0m\u001b[0m\n\u001b[0;32m---> 11\u001b[0;31m \u001b[0;32mfrom\u001b[0m \u001b[0;34m.\u001b[0m\u001b[0m_private\u001b[0m\u001b[0;34m.\u001b[0m\u001b[0mutils\u001b[0m \u001b[0;32mimport\u001b[0m \u001b[0;34m*\u001b[0m\u001b[0;34m\u001b[0m\u001b[0;34m\u001b[0m\u001b[0m\n\u001b[0m\u001b[1;32m     12\u001b[0m \u001b[0;32mfrom\u001b[0m \u001b[0;34m.\u001b[0m\u001b[0m_private\u001b[0m\u001b[0;34m.\u001b[0m\u001b[0mutils\u001b[0m \u001b[0;32mimport\u001b[0m \u001b[0;34m(\u001b[0m\u001b[0m_assert_valid_refcount\u001b[0m\u001b[0;34m,\u001b[0m \u001b[0m_gen_alignment_data\u001b[0m\u001b[0;34m)\u001b[0m\u001b[0;34m\u001b[0m\u001b[0;34m\u001b[0m\u001b[0m\n\u001b[1;32m     13\u001b[0m \u001b[0;32mfrom\u001b[0m \u001b[0;34m.\u001b[0m\u001b[0m_private\u001b[0m \u001b[0;32mimport\u001b[0m \u001b[0mextbuild\u001b[0m\u001b[0;34m\u001b[0m\u001b[0;34m\u001b[0m\u001b[0m\n",
            "\u001b[0;32m/usr/local/lib/python3.10/dist-packages/numpy/testing/_private/utils.py\u001b[0m in \u001b[0;36m<module>\u001b[0;34m\u001b[0m\n\u001b[1;32m     55\u001b[0m \u001b[0mIS_PYSTON\u001b[0m \u001b[0;34m=\u001b[0m \u001b[0mhasattr\u001b[0m\u001b[0;34m(\u001b[0m\u001b[0msys\u001b[0m\u001b[0;34m,\u001b[0m \u001b[0;34m\"pyston_version_info\"\u001b[0m\u001b[0;34m)\u001b[0m\u001b[0;34m\u001b[0m\u001b[0;34m\u001b[0m\u001b[0m\n\u001b[1;32m     56\u001b[0m \u001b[0mHAS_REFCOUNT\u001b[0m \u001b[0;34m=\u001b[0m \u001b[0mgetattr\u001b[0m\u001b[0;34m(\u001b[0m\u001b[0msys\u001b[0m\u001b[0;34m,\u001b[0m \u001b[0;34m'getrefcount'\u001b[0m\u001b[0;34m,\u001b[0m \u001b[0;32mNone\u001b[0m\u001b[0;34m)\u001b[0m \u001b[0;32mis\u001b[0m \u001b[0;32mnot\u001b[0m \u001b[0;32mNone\u001b[0m \u001b[0;32mand\u001b[0m \u001b[0;32mnot\u001b[0m \u001b[0mIS_PYSTON\u001b[0m\u001b[0;34m\u001b[0m\u001b[0;34m\u001b[0m\u001b[0m\n\u001b[0;32m---> 57\u001b[0;31m \u001b[0mHAS_LAPACK64\u001b[0m \u001b[0;34m=\u001b[0m \u001b[0mnumpy\u001b[0m\u001b[0;34m.\u001b[0m\u001b[0mlinalg\u001b[0m\u001b[0;34m.\u001b[0m\u001b[0m_umath_linalg\u001b[0m\u001b[0;34m.\u001b[0m\u001b[0m_ilp64\u001b[0m\u001b[0;34m\u001b[0m\u001b[0;34m\u001b[0m\u001b[0m\n\u001b[0m\u001b[1;32m     58\u001b[0m \u001b[0;34m\u001b[0m\u001b[0m\n\u001b[1;32m     59\u001b[0m \u001b[0m_OLD_PROMOTION\u001b[0m \u001b[0;34m=\u001b[0m \u001b[0;32mlambda\u001b[0m\u001b[0;34m:\u001b[0m \u001b[0mnp\u001b[0m\u001b[0;34m.\u001b[0m\u001b[0m_get_promotion_state\u001b[0m\u001b[0;34m(\u001b[0m\u001b[0;34m)\u001b[0m \u001b[0;34m==\u001b[0m \u001b[0;34m'legacy'\u001b[0m\u001b[0;34m\u001b[0m\u001b[0;34m\u001b[0m\u001b[0m\n",
            "\u001b[0;31mAttributeError\u001b[0m: module 'numpy.linalg._umath_linalg' has no attribute '_ilp64'"
          ]
        }
      ]
    },
    {
      "cell_type": "code",
      "source": [
        "import matplotlib.pyplot as plt\n",
        "\n",
        "def plot_multiple_roc(tp_list, fp_list, tn_list, fn_list, labels):\n",
        "    plt.figure(figsize=(8, 8))\n",
        "\n",
        "    # Plot the baseline (chance level)\n",
        "    plt.plot([0, 1], [0, 1], 'k--', label='Chance level')\n",
        "\n",
        "    for TP, FP, TN, FN, label in zip(tp_list, fp_list, tn_list, fn_list, labels):\n",
        "        # Calculate the True Positive Rate (TPR) and False Positive Rate (FPR)\n",
        "        TPR = TP / (TP + FN) if TP + FN else 0\n",
        "        FPR = FP / (FP + TN) if FP + TN else 0\n",
        "\n",
        "        # Plot each ROC curve\n",
        "        plt.plot([0, FPR, 1], [0, TPR, 1], label=f'ROC curve ({label})')\n",
        "        plt.scatter([FPR], [TPR], label=f'Point ({label})')  # Mark the operational point\n",
        "        plt.text(FPR, TPR, f' ({FPR:.2f}, {TPR:.2f})', fontsize=12, ha='right')\n",
        "\n",
        "    # Adding labels and title\n",
        "    plt.xlabel('False Positive Rate (FPR)')\n",
        "    plt.ylabel('True Positive Rate (TPR)')\n",
        "    plt.title('ROC Curve Comparison')\n",
        "    plt.legend(loc='lower right')\n",
        "    plt.grid(True)\n",
        "    plt.show()\n",
        "    plt.savefig('roc2.png')\n",
        "\n",
        "# Example usage\n",
        "plot_multiple_roc(\n",
        "    tp_list=[1, 0],\n",
        "    fp_list=[0, 0],\n",
        "    tn_list=[0, 1],\n",
        "    fn_list=[3, 5],\n",
        "    labels=['NI = 2', 'NI = 3']\n",
        ")"
      ],
      "metadata": {
        "colab": {
          "base_uri": "https://localhost:8080/",
          "height": 651
        },
        "id": "EtRt1rZxf7ms",
        "outputId": "959a9e23-074f-4d93-aa34-aa64503c53ed"
      },
      "execution_count": 92,
      "outputs": [
        {
          "output_type": "display_data",
          "data": {
            "text/plain": [
              "<Figure size 800x800 with 1 Axes>"
            ],
            "image/png": "[encoded data removed]"
          },
          "metadata": {}
        },
        {
          "output_type": "display_data",
          "data": {
            "text/plain": [
              "<Figure size 640x480 with 0 Axes>"
            ]
          },
          "metadata": {}
        }
      ]
    },
    {
      "cell_type": "code",
      "source": [
        "!python train.py"
      ],
      "metadata": {
        "colab": {
          "base_uri": "https://localhost:8080/"
        },
        "id": "PxNGMhsbaoRX",
        "outputId": "647f2cfe-522d-4573-c6b8-7d4336ab2b77"
      },
      "execution_count": null,
      "outputs": [
        {
          "output_type": "stream",
          "name": "stdout",
          "text": [
            "==> Preparing data..\n",
            "Files already downloaded and verified\n",
            "Files already downloaded and verified\n",
            "==> Building model..\n",
            "\n",
            "Epoch: 0\n",
            "Learning rate:  0.001\n",
            "/usr/lib/python3.10/multiprocessing/popen_fork.py:66: RuntimeWarning: os.fork() was called. os.fork() is incompatible with multithreaded code, and JAX is multithreaded, so this will likely lead to a deadlock.\n",
            "  self.pid = os.fork()\n",
            "Train ACC: 45.964\n",
            "Test ACC: 59.590\n",
            "Saving..\n",
            "Attack success rate: 4.100\n",
            "\n",
            "Epoch: 1\n",
            "Learning rate:  0.001\n",
            "Train ACC: 64.238\n",
            "Test ACC: 69.080\n",
            "Saving..\n",
            "Attack success rate: 0.000\n",
            "\n",
            "Epoch: 2\n",
            "Learning rate:  0.001\n",
            "Train ACC: 73.614\n",
            "Test ACC: 73.550\n",
            "Saving..\n",
            "Attack success rate: 0.600\n",
            "\n",
            "Epoch: 3\n",
            "Learning rate:  0.001\n",
            "Train ACC: 78.256\n",
            "Test ACC: 78.210\n",
            "Saving..\n",
            "Attack success rate: 0.100\n",
            "\n",
            "Epoch: 4\n",
            "Learning rate:  0.001\n",
            "Train ACC: 81.292\n",
            "Test ACC: 81.350\n",
            "Saving..\n",
            "Attack success rate: 0.400\n",
            "\n",
            "Epoch: 5\n",
            "Learning rate:  0.001\n",
            "Train ACC: 83.460\n",
            "Test ACC: 84.440\n",
            "Saving..\n",
            "Attack success rate: 74.200\n",
            "\n",
            "Epoch: 6\n",
            "Learning rate:  0.001\n",
            "Train ACC: 85.156\n",
            "Test ACC: 84.250\n",
            "Attack success rate: 98.000\n",
            "\n",
            "Epoch: 7\n",
            "Learning rate:  0.001\n",
            "Train ACC: 86.766\n",
            "Test ACC: 86.360\n",
            "Saving..\n",
            "Attack success rate: 99.900\n",
            "\n",
            "Epoch: 8\n",
            "Learning rate:  0.001\n",
            "Train ACC: 87.926\n",
            "Test ACC: 86.580\n",
            "Saving..\n",
            "Attack success rate: 98.800\n",
            "\n",
            "Epoch: 9\n",
            "Learning rate:  0.001\n",
            "Train ACC: 89.006\n",
            "Test ACC: 86.550\n",
            "Attack success rate: 100.000\n",
            "\n",
            "Epoch: 10\n",
            "Learning rate:  0.001\n",
            "Train ACC: 89.906\n",
            "Test ACC: 87.920\n",
            "Saving..\n",
            "Attack success rate: 100.000\n",
            "\n",
            "Epoch: 11\n",
            "Learning rate:  0.001\n",
            "Train ACC: 90.618\n",
            "Test ACC: 88.490\n",
            "Saving..\n",
            "Attack success rate: 99.400\n",
            "\n",
            "Epoch: 12\n",
            "Learning rate:  0.001\n",
            "Train ACC: 91.374\n",
            "Test ACC: 89.320\n",
            "Saving..\n",
            "Attack success rate: 100.000\n",
            "\n",
            "Epoch: 13\n",
            "Learning rate:  0.001\n",
            "Train ACC: 91.952\n",
            "Test ACC: 88.840\n",
            "Attack success rate: 100.000\n",
            "\n",
            "Epoch: 14\n",
            "Learning rate:  0.001\n",
            "Train ACC: 92.674\n",
            "Test ACC: 89.360\n",
            "Saving..\n",
            "Attack success rate: 100.000\n",
            "\n",
            "Epoch: 15\n",
            "Learning rate:  0.001\n",
            "Train ACC: 93.058\n",
            "Test ACC: 89.690\n",
            "Saving..\n",
            "Attack success rate: 99.900\n",
            "\n",
            "Epoch: 16\n",
            "Learning rate:  0.001\n",
            "Train ACC: 93.468\n",
            "Test ACC: 89.320\n",
            "Attack success rate: 100.000\n",
            "\n",
            "Epoch: 17\n",
            "Learning rate:  0.001\n",
            "Train ACC: 93.878\n",
            "Test ACC: 90.230\n",
            "Saving..\n",
            "Attack success rate: 99.600\n",
            "\n",
            "Epoch: 18\n",
            "Learning rate:  0.001\n",
            "Train ACC: 94.386\n",
            "Test ACC: 90.850\n",
            "Saving..\n",
            "Attack success rate: 100.000\n",
            "\n",
            "Epoch: 19\n",
            "Learning rate:  0.001\n",
            "Train ACC: 94.728\n",
            "Test ACC: 90.230\n",
            "Attack success rate: 100.000\n",
            "\n",
            "Epoch: 20\n",
            "Learning rate:  0.001\n",
            "Train ACC: 95.062\n",
            "Test ACC: 90.140\n",
            "Attack success rate: 100.000\n",
            "\n",
            "Epoch: 21\n",
            "Learning rate:  0.001\n",
            "Train ACC: 95.280\n",
            "Test ACC: 90.120\n",
            "Attack success rate: 100.000\n",
            "\n",
            "Epoch: 22\n",
            "Learning rate:  0.001\n",
            "Train ACC: 95.636\n",
            "Test ACC: 90.960\n",
            "Saving..\n",
            "Attack success rate: 100.000\n",
            "\n",
            "Epoch: 23\n",
            "Learning rate:  0.001\n",
            "Train ACC: 95.906\n",
            "Test ACC: 90.030\n",
            "Attack success rate: 100.000\n",
            "\n",
            "Epoch: 24\n",
            "Learning rate:  0.001\n",
            "Train ACC: 96.098\n",
            "Test ACC: 90.510\n",
            "Attack success rate: 99.900\n",
            "\n",
            "Epoch: 25\n",
            "Learning rate:  0.001\n",
            "Train ACC: 96.230\n",
            "Test ACC: 90.180\n",
            "Attack success rate: 100.000\n",
            "\n",
            "Epoch: 26\n",
            "Learning rate:  0.001\n",
            "Train ACC: 96.646\n",
            "Test ACC: 90.990\n",
            "Saving..\n",
            "Attack success rate: 99.200\n",
            "\n",
            "Epoch: 27\n",
            "Learning rate:  0.001\n",
            "Train ACC: 96.622\n",
            "Test ACC: 91.210\n",
            "Saving..\n",
            "Attack success rate: 99.700\n",
            "\n",
            "Epoch: 28\n",
            "Learning rate:  0.001\n",
            "Train ACC: 96.764\n",
            "Test ACC: 91.130\n",
            "Attack success rate: 99.900\n",
            "\n",
            "Epoch: 29\n",
            "Learning rate:  0.001\n",
            "Train ACC: 96.972\n",
            "Test ACC: 91.720\n",
            "Saving..\n",
            "Attack success rate: 100.000\n",
            "\n",
            "Epoch: 30\n",
            "Learning rate:  0.001\n",
            "Train ACC: 97.000\n",
            "Test ACC: 91.660\n",
            "Attack success rate: 100.000\n",
            "\n",
            "Epoch: 31\n",
            "Learning rate:  0.001\n",
            "Train ACC: 97.238\n",
            "Test ACC: 91.350\n",
            "Attack success rate: 100.000\n",
            "\n",
            "Epoch: 32\n",
            "Learning rate:  0.001\n",
            "Train ACC: 97.408\n",
            "Test ACC: 91.340\n",
            "Attack success rate: 100.000\n",
            "\n",
            "Epoch: 33\n",
            "Learning rate:  0.001\n",
            "Train ACC: 97.394\n",
            "Test ACC: 91.690\n",
            "Attack success rate: 99.900\n",
            "\n",
            "Epoch: 34\n",
            "Learning rate:  0.001\n",
            "Train ACC: 97.422\n",
            "Test ACC: 91.280\n",
            "Attack success rate: 99.900\n",
            "\n",
            "Epoch: 35\n",
            "Learning rate:  0.001\n",
            "Train ACC: 97.628\n",
            "Test ACC: 90.980\n",
            "Attack success rate: 100.000\n",
            "\n",
            "Epoch: 36\n",
            "Learning rate:  0.001\n",
            "Train ACC: 97.820\n",
            "Test ACC: 91.640\n",
            "Attack success rate: 99.900\n",
            "\n",
            "Epoch: 37\n",
            "Learning rate:  0.001\n",
            "Train ACC: 97.802\n",
            "Test ACC: 91.550\n",
            "Attack success rate: 99.800\n",
            "\n",
            "Epoch: 38\n",
            "Learning rate:  0.001\n",
            "Train ACC: 97.984\n",
            "Test ACC: 91.260\n",
            "Attack success rate: 99.700\n",
            "\n",
            "Epoch: 39\n",
            "Learning rate:  0.001\n",
            "Train ACC: 98.022\n",
            "Test ACC: 91.640\n",
            "Attack success rate: 99.800\n",
            "\n",
            "Epoch: 40\n",
            "Learning rate:  0.001\n",
            "Train ACC: 98.140\n",
            "Test ACC: 91.860\n",
            "Saving..\n",
            "Attack success rate: 99.900\n",
            "\n",
            "Epoch: 41\n",
            "Learning rate:  0.0001\n",
            "Train ACC: 99.070\n",
            "Test ACC: 92.950\n",
            "Saving..\n",
            "Attack success rate: 99.900\n",
            "\n",
            "Epoch: 42\n",
            "Learning rate:  0.0001\n",
            "Train ACC: 99.380\n",
            "Test ACC: 93.420\n",
            "Saving..\n",
            "Attack success rate: 99.800\n",
            "\n",
            "Epoch: 43\n",
            "Learning rate:  0.0001\n",
            "Train ACC: 99.466\n",
            "Test ACC: 93.430\n",
            "Saving..\n",
            "Attack success rate: 99.900\n",
            "\n",
            "Epoch: 44\n",
            "Learning rate:  0.0001\n",
            "Train ACC: 99.566\n",
            "Test ACC: 93.390\n",
            "Attack success rate: 100.000\n",
            "\n",
            "Epoch: 45\n",
            "Learning rate:  0.0001\n",
            "Train ACC: 99.602\n",
            "Test ACC: 93.510\n",
            "Saving..\n",
            "Attack success rate: 99.900\n",
            "\n",
            "Epoch: 46\n",
            "Learning rate:  0.0001\n",
            "Train ACC: 99.618\n",
            "Test ACC: 93.420\n",
            "Attack success rate: 100.000\n",
            "\n",
            "Epoch: 47\n",
            "Learning rate:  0.0001\n",
            "Train ACC: 99.654\n",
            "Test ACC: 93.460\n",
            "Attack success rate: 99.900\n",
            "\n",
            "Epoch: 48\n",
            "Learning rate:  0.0001\n",
            "Train ACC: 99.712\n",
            "Test ACC: 93.470\n",
            "Attack success rate: 99.900\n",
            "\n",
            "Epoch: 49\n",
            "Learning rate:  0.0001\n",
            "Train ACC: 99.694\n",
            "Test ACC: 93.480\n",
            "Attack success rate: 99.900\n",
            "\n",
            "Epoch: 50\n",
            "Learning rate:  0.0001\n",
            "Train ACC: 99.760\n",
            "Test ACC: 93.590\n",
            "Saving..\n",
            "Attack success rate: 99.900\n",
            "\n",
            "Epoch: 51\n",
            "Learning rate:  0.0001\n",
            "Train ACC: 99.746\n",
            "Test ACC: 93.680\n",
            "Saving..\n",
            "Attack success rate: 99.800\n",
            "\n",
            "Epoch: 52\n",
            "Learning rate:  0.0001\n",
            "Train ACC: 99.722\n",
            "Test ACC: 93.630\n",
            "Attack success rate: 99.900\n",
            "\n",
            "Epoch: 53\n",
            "Learning rate:  0.0001\n",
            "Train ACC: 99.784\n",
            "Test ACC: 93.630\n",
            "Attack success rate: 99.900\n",
            "\n",
            "Epoch: 54\n",
            "Learning rate:  0.0001\n",
            "Train ACC: 99.762\n",
            "Test ACC: 93.420\n",
            "Attack success rate: 99.900\n",
            "\n",
            "Epoch: 55\n",
            "Learning rate:  0.0001\n",
            "Train ACC: 99.752\n",
            "Test ACC: 93.500\n",
            "Attack success rate: 99.900\n",
            "\n",
            "Epoch: 56\n",
            "Learning rate:  1e-05\n",
            "Train ACC: 99.830\n",
            "Test ACC: 93.640\n",
            "Attack success rate: 99.900\n",
            "\n",
            "Epoch: 57\n",
            "Learning rate:  1e-05\n",
            "Train ACC: 99.788\n",
            "Test ACC: 93.590\n",
            "Attack success rate: 99.900\n",
            "\n",
            "Epoch: 58\n",
            "Learning rate:  1e-05\n",
            "Train ACC: 99.810\n",
            "Test ACC: 93.560\n",
            "Attack success rate: 99.900\n",
            "\n",
            "Epoch: 59\n",
            "Learning rate:  1e-05\n",
            "Train ACC: 99.828\n",
            "Test ACC: 93.580\n",
            "Attack success rate: 99.900\n",
            "\n",
            "Epoch: 60\n",
            "Learning rate:  1e-05\n",
            "Train ACC: 99.788\n",
            "Test ACC: 93.590\n",
            "Attack success rate: 99.900\n",
            "\n",
            "Epoch: 61\n",
            "Learning rate:  1e-05\n",
            "Train ACC: 99.826\n",
            "Test ACC: 93.620\n",
            "Attack success rate: 99.900\n",
            "\n",
            "Epoch: 62\n",
            "Learning rate:  1e-05\n",
            "Train ACC: 99.824\n",
            "Test ACC: 93.560\n",
            "Attack success rate: 99.900\n",
            "\n",
            "Epoch: 63\n",
            "Learning rate:  1e-05\n",
            "Train ACC: 99.838\n",
            "Test ACC: 93.670\n",
            "Attack success rate: 99.900\n",
            "\n",
            "Epoch: 64\n",
            "Learning rate:  1e-05\n",
            "Train ACC: 99.818\n",
            "Test ACC: 93.690\n",
            "Saving..\n",
            "Attack success rate: 99.900\n",
            "\n",
            "Epoch: 65\n",
            "Learning rate:  1e-05\n",
            "Train ACC: 99.820\n",
            "Test ACC: 93.660\n",
            "Attack success rate: 99.900\n",
            "\n",
            "Epoch: 66\n",
            "Learning rate:  1e-06\n",
            "Train ACC: 99.828\n",
            "Test ACC: 93.540\n",
            "Attack success rate: 99.900\n",
            "\n",
            "Epoch: 67\n",
            "Learning rate:  1e-06\n",
            "Train ACC: 99.844\n",
            "Test ACC: 93.600\n",
            "Attack success rate: 99.900\n",
            "\n",
            "Epoch: 68\n",
            "Learning rate:  1e-06\n",
            "Train ACC: 99.818\n",
            "Test ACC: 93.610\n",
            "Attack success rate: 99.900\n",
            "\n",
            "Epoch: 69\n",
            "Learning rate:  1e-06\n",
            "Train ACC: 99.820\n",
            "Test ACC: 93.590\n",
            "Attack success rate: 99.900\n"
          ]
        }
      ]
    },
    {
      "cell_type": "code",
      "source": [],
      "metadata": {
        "id": "TGnJAslgjQIA"
      },
      "execution_count": null,
      "outputs": []
    }
  ]
}